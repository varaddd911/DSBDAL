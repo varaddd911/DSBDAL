{
 "cells": [
  {
   "cell_type": "code",
   "execution_count": null,
   "id": "b40ee91e",
   "metadata": {},
   "outputs": [],
   "source": [
    "#Whole Code is in This cell\n",
    "import pandas as pd\n",
    "df = pd.read_csv('iris.csv')\n",
    "df.head()\n",
    "df.tail()\n",
    "df.shape\n",
    "df.describe\n",
    "df.info\n",
    "df.isna\n",
    "df.isnull().sum()\n",
    "mapping = {'Setosa': 0, 'Versicolor': 1, 'Virginica': 2}\n",
    "\n",
    "# Replace values directly in the original column\n",
    "df['Species'] = df['Species'].map(mapping)"
   ]
  },
  {
   "cell_type": "code",
   "execution_count": null,
   "id": "23c07979",
   "metadata": {},
   "outputs": [],
   "source": [
    "import pandas as pd"
   ]
  },
  {
   "cell_type": "code",
   "execution_count": null,
   "id": "6d2b0dd5",
   "metadata": {},
   "outputs": [],
   "source": [
    "df = pd.read_csv('iris.csv')\n",
    "df.head()"
   ]
  },
  {
   "cell_type": "code",
   "execution_count": null,
   "id": "8172cdd5",
   "metadata": {},
   "outputs": [],
   "source": [
    "df.tail()"
   ]
  },
  {
   "cell_type": "code",
   "execution_count": null,
   "id": "c915d41f",
   "metadata": {},
   "outputs": [],
   "source": [
    "df.describe"
   ]
  },
  {
   "cell_type": "code",
   "execution_count": null,
   "id": "fcd51236",
   "metadata": {},
   "outputs": [],
   "source": [
    "df.info"
   ]
  },
  {
   "cell_type": "code",
   "execution_count": null,
   "id": "5056e85a",
   "metadata": {},
   "outputs": [],
   "source": [
    "df.shape"
   ]
  },
  {
   "cell_type": "code",
   "execution_count": null,
   "id": "f6752e6b",
   "metadata": {},
   "outputs": [],
   "source": [
    "df.isna()"
   ]
  },
  {
   "cell_type": "code",
   "execution_count": null,
   "id": "aa780415",
   "metadata": {},
   "outputs": [],
   "source": [
    "df.isnull().sum()"
   ]
  },
  {
   "cell_type": "code",
   "execution_count": null,
   "id": "20727ac6",
   "metadata": {},
   "outputs": [],
   "source": [
    "mapping = {'Setosa': 0, 'Versicolor': 1, 'Virginica': 2}\n",
    "\n",
    "# Replace values directly in the original column\n",
    "df['Species'] = df['Species'].map(mapping)"
   ]
  },
  {
   "cell_type": "code",
   "execution_count": null,
   "id": "19d74dfd",
   "metadata": {},
   "outputs": [],
   "source": [
    "df.head()"
   ]
  }
 ],
 "metadata": {
  "kernelspec": {
   "display_name": "Python 3",
   "language": "python",
   "name": "python3"
  },
  "language_info": {
   "codemirror_mode": {
    "name": "ipython",
    "version": 3
   },
   "file_extension": ".py",
   "mimetype": "text/x-python",
   "name": "python",
   "nbconvert_exporter": "python",
   "pygments_lexer": "ipython3",
   "version": "3.12.7"
  }
 },
 "nbformat": 4,
 "nbformat_minor": 5
}
